{
 "cells": [
  {
   "cell_type": "code",
   "execution_count": 21,
   "source": [
    "from pyforest import *\n",
    "import pandas as pd\n",
    "import plotly.graph_objects as go\n",
    "import plotly.express as px\n",
    "import plotly.graph_objects as go\n",
    "from plotly.subplots import make_subplots\n",
    "import quickda\n",
    "from quickda.explore_data import * \n",
    "from quickda.explore_categoric import * \n",
    "from quickda.explore_numeric import *\n",
    "from quickda.explore_numeric_categoric import * \n",
    "from quickda.clean_data import *\n",
    "from statsmodels import *"
   ],
   "outputs": [],
   "metadata": {}
  },
  {
   "cell_type": "markdown",
   "source": [
    "## Working with combined August Data"
   ],
   "metadata": {}
  },
  {
   "cell_type": "code",
   "execution_count": 2,
   "source": [
    "# reading in data and converting date to time\n",
    "aug_data = pd.read_csv(\"/Users/lukehoward/Desktop/RMIT_SEM_2_2021/Case Studies/Project/Data/merged_data_aug_trim.csv\")\n",
    "aug_data.date = pd.to_datetime(aug_data.date, infer_datetime_format=True, dayfirst=True )\n"
   ],
   "outputs": [],
   "metadata": {}
  },
  {
   "cell_type": "code",
   "execution_count": 3,
   "source": [
    "# filtering data for chosen states and time frame (removing negative daily doses also)\n",
    "aug_data.query(\"state == 'NSW' or state == 'VIC' or state == 'QLD'\", inplace=True)\n",
    "aug_data.query(\"date <= '2021-08-31'\", inplace =True)\n",
    "aug_data.query(\"daily_doses > 0\", inplace =True)"
   ],
   "outputs": [],
   "metadata": {}
  },
  {
   "cell_type": "code",
   "execution_count": 4,
   "source": [
    "#back filling missing values\n",
    "aug_data.bfill(axis = 0, inplace = True)"
   ],
   "outputs": [],
   "metadata": {}
  },
  {
   "cell_type": "code",
   "execution_count": 26,
   "source": [
    "# Create figure with secondary y-axis\n",
    "aug_data_qld = aug_data[aug_data[\"state\"] == \"QLD\"]\n",
    "\n",
    "fig = px.scatter(aug_data_qld, x = \"transcript_sentiment_positive\", y = \"avr_positive_tweet_sentiment\", trendline=\"ols\")\n",
    "fig.update_xaxes(title = \"Transcript Sentiment\")\n",
    "fig.update_yaxes(title = \"Twitter Sentiment\")\n",
    "fig.show()"
   ],
   "outputs": [
    {
     "output_type": "display_data",
     "data": {
      "application/vnd.plotly.v1+json": {
       "config": {
        "plotlyServerURL": "https://plot.ly"
       },
       "data": [
        {
         "hovertemplate": "transcript_sentiment_positive=%{x}<br>avr_positive_tweet_sentiment=%{y}<extra></extra>",
         "legendgroup": "",
         "marker": {
          "color": "#636efa",
          "symbol": "circle"
         },
         "mode": "markers",
         "name": "",
         "orientation": "v",
         "showlegend": false,
         "type": "scatter",
         "x": [
          0.418333333,
          0.418333333,
          0.665,
          0.608,
          0.608,
          0.54,
          0.526,
          0.442,
          0.51,
          0.495,
          0.566,
          0.53,
          0.633333333,
          0.521666667,
          0.6925,
          0.478571429,
          0.732,
          0.732,
          0.56,
          0.5425,
          0.666,
          0.568571429,
          0.598333333,
          0.482857143,
          0.4475,
          0.562,
          0.562,
          0.50375,
          0.47375,
          0.444285714,
          0.34
         ],
         "xaxis": "x",
         "y": [
          0.208558559,
          0.195526316,
          0.179764706,
          0.211617647,
          0.2155,
          0.175930233,
          0.1264,
          0.013333333,
          0.2725,
          0.170666667,
          0,
          0.235,
          0.275,
          0.1425,
          0.04,
          0,
          0.005,
          0.125,
          0.2128,
          0.295,
          0.1775,
          0.04,
          0.065,
          0.31,
          0.006666667,
          0.28,
          0.224,
          0.2,
          0.18,
          0.01,
          0.215714286
         ],
         "yaxis": "y"
        },
        {
         "hovertemplate": "<b>OLS trendline</b><br>avr_positive_tweet_sentiment = -0.0864396 * transcript_sentiment_positive + 0.202163<br>R<sup>2</sup>=0.006802<br><br>transcript_sentiment_positive=%{x}<br>avr_positive_tweet_sentiment=%{y} <b>(trend)</b><extra></extra>",
         "legendgroup": "",
         "marker": {
          "color": "#636efa",
          "symbol": "circle"
         },
         "mode": "lines",
         "name": "",
         "showlegend": false,
         "type": "scatter",
         "x": [
          0.34,
          0.418333333,
          0.418333333,
          0.442,
          0.444285714,
          0.4475,
          0.47375,
          0.478571429,
          0.482857143,
          0.495,
          0.50375,
          0.51,
          0.521666667,
          0.526,
          0.53,
          0.54,
          0.5425,
          0.56,
          0.562,
          0.562,
          0.566,
          0.568571429,
          0.598333333,
          0.608,
          0.608,
          0.633333333,
          0.665,
          0.666,
          0.6925,
          0.732,
          0.732
         ],
         "xaxis": "x",
         "y": [
          0.17277397399691707,
          0.16600286838526943,
          0.16600286838526943,
          0.16395713005657228,
          0.1637595537464717,
          0.16348171200096545,
          0.1612126712810238,
          0.16079590866276444,
          0.1604254530597159,
          0.15937582879345197,
          0.15861948188680472,
          0.15807923409634242,
          0.15707077152533291,
          0.15669619975275895,
          0.15635044116686306,
          0.15548604470212338,
          0.15526994558593846,
          0.153757251772644,
          0.15358437247969606,
          0.15358437247969606,
          0.1532386138938002,
          0.1530163404801073,
          0.1504437320199551,
          0.14960814874189352,
          0.14960814874189352,
          0.1474183443933662,
          0.1446810888928773,
          0.14459464924640336,
          0.1423039986148432,
          0.13888963257912146,
          0.13888963257912146
         ],
         "yaxis": "y"
        }
       ],
       "layout": {
        "legend": {
         "tracegroupgap": 0
        },
        "margin": {
         "t": 60
        },
        "template": {
         "data": {
          "bar": [
           {
            "error_x": {
             "color": "#2a3f5f"
            },
            "error_y": {
             "color": "#2a3f5f"
            },
            "marker": {
             "line": {
              "color": "#E5ECF6",
              "width": 0.5
             },
             "pattern": {
              "fillmode": "overlay",
              "size": 10,
              "solidity": 0.2
             }
            },
            "type": "bar"
           }
          ],
          "barpolar": [
           {
            "marker": {
             "line": {
              "color": "#E5ECF6",
              "width": 0.5
             },
             "pattern": {
              "fillmode": "overlay",
              "size": 10,
              "solidity": 0.2
             }
            },
            "type": "barpolar"
           }
          ],
          "carpet": [
           {
            "aaxis": {
             "endlinecolor": "#2a3f5f",
             "gridcolor": "white",
             "linecolor": "white",
             "minorgridcolor": "white",
             "startlinecolor": "#2a3f5f"
            },
            "baxis": {
             "endlinecolor": "#2a3f5f",
             "gridcolor": "white",
             "linecolor": "white",
             "minorgridcolor": "white",
             "startlinecolor": "#2a3f5f"
            },
            "type": "carpet"
           }
          ],
          "choropleth": [
           {
            "colorbar": {
             "outlinewidth": 0,
             "ticks": ""
            },
            "type": "choropleth"
           }
          ],
          "contour": [
           {
            "colorbar": {
             "outlinewidth": 0,
             "ticks": ""
            },
            "colorscale": [
             [
              0,
              "#0d0887"
             ],
             [
              0.1111111111111111,
              "#46039f"
             ],
             [
              0.2222222222222222,
              "#7201a8"
             ],
             [
              0.3333333333333333,
              "#9c179e"
             ],
             [
              0.4444444444444444,
              "#bd3786"
             ],
             [
              0.5555555555555556,
              "#d8576b"
             ],
             [
              0.6666666666666666,
              "#ed7953"
             ],
             [
              0.7777777777777778,
              "#fb9f3a"
             ],
             [
              0.8888888888888888,
              "#fdca26"
             ],
             [
              1,
              "#f0f921"
             ]
            ],
            "type": "contour"
           }
          ],
          "contourcarpet": [
           {
            "colorbar": {
             "outlinewidth": 0,
             "ticks": ""
            },
            "type": "contourcarpet"
           }
          ],
          "heatmap": [
           {
            "colorbar": {
             "outlinewidth": 0,
             "ticks": ""
            },
            "colorscale": [
             [
              0,
              "#0d0887"
             ],
             [
              0.1111111111111111,
              "#46039f"
             ],
             [
              0.2222222222222222,
              "#7201a8"
             ],
             [
              0.3333333333333333,
              "#9c179e"
             ],
             [
              0.4444444444444444,
              "#bd3786"
             ],
             [
              0.5555555555555556,
              "#d8576b"
             ],
             [
              0.6666666666666666,
              "#ed7953"
             ],
             [
              0.7777777777777778,
              "#fb9f3a"
             ],
             [
              0.8888888888888888,
              "#fdca26"
             ],
             [
              1,
              "#f0f921"
             ]
            ],
            "type": "heatmap"
           }
          ],
          "heatmapgl": [
           {
            "colorbar": {
             "outlinewidth": 0,
             "ticks": ""
            },
            "colorscale": [
             [
              0,
              "#0d0887"
             ],
             [
              0.1111111111111111,
              "#46039f"
             ],
             [
              0.2222222222222222,
              "#7201a8"
             ],
             [
              0.3333333333333333,
              "#9c179e"
             ],
             [
              0.4444444444444444,
              "#bd3786"
             ],
             [
              0.5555555555555556,
              "#d8576b"
             ],
             [
              0.6666666666666666,
              "#ed7953"
             ],
             [
              0.7777777777777778,
              "#fb9f3a"
             ],
             [
              0.8888888888888888,
              "#fdca26"
             ],
             [
              1,
              "#f0f921"
             ]
            ],
            "type": "heatmapgl"
           }
          ],
          "histogram": [
           {
            "marker": {
             "pattern": {
              "fillmode": "overlay",
              "size": 10,
              "solidity": 0.2
             }
            },
            "type": "histogram"
           }
          ],
          "histogram2d": [
           {
            "colorbar": {
             "outlinewidth": 0,
             "ticks": ""
            },
            "colorscale": [
             [
              0,
              "#0d0887"
             ],
             [
              0.1111111111111111,
              "#46039f"
             ],
             [
              0.2222222222222222,
              "#7201a8"
             ],
             [
              0.3333333333333333,
              "#9c179e"
             ],
             [
              0.4444444444444444,
              "#bd3786"
             ],
             [
              0.5555555555555556,
              "#d8576b"
             ],
             [
              0.6666666666666666,
              "#ed7953"
             ],
             [
              0.7777777777777778,
              "#fb9f3a"
             ],
             [
              0.8888888888888888,
              "#fdca26"
             ],
             [
              1,
              "#f0f921"
             ]
            ],
            "type": "histogram2d"
           }
          ],
          "histogram2dcontour": [
           {
            "colorbar": {
             "outlinewidth": 0,
             "ticks": ""
            },
            "colorscale": [
             [
              0,
              "#0d0887"
             ],
             [
              0.1111111111111111,
              "#46039f"
             ],
             [
              0.2222222222222222,
              "#7201a8"
             ],
             [
              0.3333333333333333,
              "#9c179e"
             ],
             [
              0.4444444444444444,
              "#bd3786"
             ],
             [
              0.5555555555555556,
              "#d8576b"
             ],
             [
              0.6666666666666666,
              "#ed7953"
             ],
             [
              0.7777777777777778,
              "#fb9f3a"
             ],
             [
              0.8888888888888888,
              "#fdca26"
             ],
             [
              1,
              "#f0f921"
             ]
            ],
            "type": "histogram2dcontour"
           }
          ],
          "mesh3d": [
           {
            "colorbar": {
             "outlinewidth": 0,
             "ticks": ""
            },
            "type": "mesh3d"
           }
          ],
          "parcoords": [
           {
            "line": {
             "colorbar": {
              "outlinewidth": 0,
              "ticks": ""
             }
            },
            "type": "parcoords"
           }
          ],
          "pie": [
           {
            "automargin": true,
            "type": "pie"
           }
          ],
          "scatter": [
           {
            "marker": {
             "colorbar": {
              "outlinewidth": 0,
              "ticks": ""
             }
            },
            "type": "scatter"
           }
          ],
          "scatter3d": [
           {
            "line": {
             "colorbar": {
              "outlinewidth": 0,
              "ticks": ""
             }
            },
            "marker": {
             "colorbar": {
              "outlinewidth": 0,
              "ticks": ""
             }
            },
            "type": "scatter3d"
           }
          ],
          "scattercarpet": [
           {
            "marker": {
             "colorbar": {
              "outlinewidth": 0,
              "ticks": ""
             }
            },
            "type": "scattercarpet"
           }
          ],
          "scattergeo": [
           {
            "marker": {
             "colorbar": {
              "outlinewidth": 0,
              "ticks": ""
             }
            },
            "type": "scattergeo"
           }
          ],
          "scattergl": [
           {
            "marker": {
             "colorbar": {
              "outlinewidth": 0,
              "ticks": ""
             }
            },
            "type": "scattergl"
           }
          ],
          "scattermapbox": [
           {
            "marker": {
             "colorbar": {
              "outlinewidth": 0,
              "ticks": ""
             }
            },
            "type": "scattermapbox"
           }
          ],
          "scatterpolar": [
           {
            "marker": {
             "colorbar": {
              "outlinewidth": 0,
              "ticks": ""
             }
            },
            "type": "scatterpolar"
           }
          ],
          "scatterpolargl": [
           {
            "marker": {
             "colorbar": {
              "outlinewidth": 0,
              "ticks": ""
             }
            },
            "type": "scatterpolargl"
           }
          ],
          "scatterternary": [
           {
            "marker": {
             "colorbar": {
              "outlinewidth": 0,
              "ticks": ""
             }
            },
            "type": "scatterternary"
           }
          ],
          "surface": [
           {
            "colorbar": {
             "outlinewidth": 0,
             "ticks": ""
            },
            "colorscale": [
             [
              0,
              "#0d0887"
             ],
             [
              0.1111111111111111,
              "#46039f"
             ],
             [
              0.2222222222222222,
              "#7201a8"
             ],
             [
              0.3333333333333333,
              "#9c179e"
             ],
             [
              0.4444444444444444,
              "#bd3786"
             ],
             [
              0.5555555555555556,
              "#d8576b"
             ],
             [
              0.6666666666666666,
              "#ed7953"
             ],
             [
              0.7777777777777778,
              "#fb9f3a"
             ],
             [
              0.8888888888888888,
              "#fdca26"
             ],
             [
              1,
              "#f0f921"
             ]
            ],
            "type": "surface"
           }
          ],
          "table": [
           {
            "cells": {
             "fill": {
              "color": "#EBF0F8"
             },
             "line": {
              "color": "white"
             }
            },
            "header": {
             "fill": {
              "color": "#C8D4E3"
             },
             "line": {
              "color": "white"
             }
            },
            "type": "table"
           }
          ]
         },
         "layout": {
          "annotationdefaults": {
           "arrowcolor": "#2a3f5f",
           "arrowhead": 0,
           "arrowwidth": 1
          },
          "autotypenumbers": "strict",
          "coloraxis": {
           "colorbar": {
            "outlinewidth": 0,
            "ticks": ""
           }
          },
          "colorscale": {
           "diverging": [
            [
             0,
             "#8e0152"
            ],
            [
             0.1,
             "#c51b7d"
            ],
            [
             0.2,
             "#de77ae"
            ],
            [
             0.3,
             "#f1b6da"
            ],
            [
             0.4,
             "#fde0ef"
            ],
            [
             0.5,
             "#f7f7f7"
            ],
            [
             0.6,
             "#e6f5d0"
            ],
            [
             0.7,
             "#b8e186"
            ],
            [
             0.8,
             "#7fbc41"
            ],
            [
             0.9,
             "#4d9221"
            ],
            [
             1,
             "#276419"
            ]
           ],
           "sequential": [
            [
             0,
             "#0d0887"
            ],
            [
             0.1111111111111111,
             "#46039f"
            ],
            [
             0.2222222222222222,
             "#7201a8"
            ],
            [
             0.3333333333333333,
             "#9c179e"
            ],
            [
             0.4444444444444444,
             "#bd3786"
            ],
            [
             0.5555555555555556,
             "#d8576b"
            ],
            [
             0.6666666666666666,
             "#ed7953"
            ],
            [
             0.7777777777777778,
             "#fb9f3a"
            ],
            [
             0.8888888888888888,
             "#fdca26"
            ],
            [
             1,
             "#f0f921"
            ]
           ],
           "sequentialminus": [
            [
             0,
             "#0d0887"
            ],
            [
             0.1111111111111111,
             "#46039f"
            ],
            [
             0.2222222222222222,
             "#7201a8"
            ],
            [
             0.3333333333333333,
             "#9c179e"
            ],
            [
             0.4444444444444444,
             "#bd3786"
            ],
            [
             0.5555555555555556,
             "#d8576b"
            ],
            [
             0.6666666666666666,
             "#ed7953"
            ],
            [
             0.7777777777777778,
             "#fb9f3a"
            ],
            [
             0.8888888888888888,
             "#fdca26"
            ],
            [
             1,
             "#f0f921"
            ]
           ]
          },
          "colorway": [
           "#636efa",
           "#EF553B",
           "#00cc96",
           "#ab63fa",
           "#FFA15A",
           "#19d3f3",
           "#FF6692",
           "#B6E880",
           "#FF97FF",
           "#FECB52"
          ],
          "font": {
           "color": "#2a3f5f"
          },
          "geo": {
           "bgcolor": "white",
           "lakecolor": "white",
           "landcolor": "#E5ECF6",
           "showlakes": true,
           "showland": true,
           "subunitcolor": "white"
          },
          "hoverlabel": {
           "align": "left"
          },
          "hovermode": "closest",
          "mapbox": {
           "style": "light"
          },
          "paper_bgcolor": "white",
          "plot_bgcolor": "#E5ECF6",
          "polar": {
           "angularaxis": {
            "gridcolor": "white",
            "linecolor": "white",
            "ticks": ""
           },
           "bgcolor": "#E5ECF6",
           "radialaxis": {
            "gridcolor": "white",
            "linecolor": "white",
            "ticks": ""
           }
          },
          "scene": {
           "xaxis": {
            "backgroundcolor": "#E5ECF6",
            "gridcolor": "white",
            "gridwidth": 2,
            "linecolor": "white",
            "showbackground": true,
            "ticks": "",
            "zerolinecolor": "white"
           },
           "yaxis": {
            "backgroundcolor": "#E5ECF6",
            "gridcolor": "white",
            "gridwidth": 2,
            "linecolor": "white",
            "showbackground": true,
            "ticks": "",
            "zerolinecolor": "white"
           },
           "zaxis": {
            "backgroundcolor": "#E5ECF6",
            "gridcolor": "white",
            "gridwidth": 2,
            "linecolor": "white",
            "showbackground": true,
            "ticks": "",
            "zerolinecolor": "white"
           }
          },
          "shapedefaults": {
           "line": {
            "color": "#2a3f5f"
           }
          },
          "ternary": {
           "aaxis": {
            "gridcolor": "white",
            "linecolor": "white",
            "ticks": ""
           },
           "baxis": {
            "gridcolor": "white",
            "linecolor": "white",
            "ticks": ""
           },
           "bgcolor": "#E5ECF6",
           "caxis": {
            "gridcolor": "white",
            "linecolor": "white",
            "ticks": ""
           }
          },
          "title": {
           "x": 0.05
          },
          "xaxis": {
           "automargin": true,
           "gridcolor": "white",
           "linecolor": "white",
           "ticks": "",
           "title": {
            "standoff": 15
           },
           "zerolinecolor": "white",
           "zerolinewidth": 2
          },
          "yaxis": {
           "automargin": true,
           "gridcolor": "white",
           "linecolor": "white",
           "ticks": "",
           "title": {
            "standoff": 15
           },
           "zerolinecolor": "white",
           "zerolinewidth": 2
          }
         }
        },
        "xaxis": {
         "anchor": "y",
         "domain": [
          0,
          1
         ],
         "title": {
          "text": "Transcript Sentiment"
         }
        },
        "yaxis": {
         "anchor": "x",
         "domain": [
          0,
          1
         ],
         "title": {
          "text": "Twitter Sentiment"
         }
        }
       }
      },
      "text/html": [
       "<div>                            <div id=\"4dfba388-f510-40d7-8215-ebf89e0927c3\" class=\"plotly-graph-div\" style=\"height:525px; width:100%;\"></div>            <script type=\"text/javascript\">                require([\"plotly\"], function(Plotly) {                    window.PLOTLYENV=window.PLOTLYENV || {};                                    if (document.getElementById(\"4dfba388-f510-40d7-8215-ebf89e0927c3\")) {                    Plotly.newPlot(                        \"4dfba388-f510-40d7-8215-ebf89e0927c3\",                        [{\"hovertemplate\":\"transcript_sentiment_positive=%{x}<br>avr_positive_tweet_sentiment=%{y}<extra></extra>\",\"legendgroup\":\"\",\"marker\":{\"color\":\"#636efa\",\"symbol\":\"circle\"},\"mode\":\"markers\",\"name\":\"\",\"orientation\":\"v\",\"showlegend\":false,\"type\":\"scatter\",\"x\":[0.418333333,0.418333333,0.665,0.608,0.608,0.54,0.526,0.442,0.51,0.495,0.566,0.53,0.633333333,0.521666667,0.6925,0.478571429,0.732,0.732,0.56,0.5425,0.666,0.568571429,0.598333333,0.482857143,0.4475,0.562,0.562,0.50375,0.47375,0.444285714,0.34],\"xaxis\":\"x\",\"y\":[0.208558559,0.195526316,0.179764706,0.211617647,0.2155,0.175930233,0.1264,0.013333333,0.2725,0.170666667,0.0,0.235,0.275,0.1425,0.04,0.0,0.005,0.125,0.2128,0.295,0.1775,0.04,0.065,0.31,0.006666667,0.28,0.224,0.2,0.18,0.01,0.215714286],\"yaxis\":\"y\"},{\"hovertemplate\":\"<b>OLS trendline</b><br>avr_positive_tweet_sentiment = -0.0864396 * transcript_sentiment_positive + 0.202163<br>R<sup>2</sup>=0.006802<br><br>transcript_sentiment_positive=%{x}<br>avr_positive_tweet_sentiment=%{y} <b>(trend)</b><extra></extra>\",\"legendgroup\":\"\",\"marker\":{\"color\":\"#636efa\",\"symbol\":\"circle\"},\"mode\":\"lines\",\"name\":\"\",\"showlegend\":false,\"type\":\"scatter\",\"x\":[0.34,0.418333333,0.418333333,0.442,0.444285714,0.4475,0.47375,0.478571429,0.482857143,0.495,0.50375,0.51,0.521666667,0.526,0.53,0.54,0.5425,0.56,0.562,0.562,0.566,0.568571429,0.598333333,0.608,0.608,0.633333333,0.665,0.666,0.6925,0.732,0.732],\"xaxis\":\"x\",\"y\":[0.17277397399691707,0.16600286838526943,0.16600286838526943,0.16395713005657228,0.1637595537464717,0.16348171200096545,0.1612126712810238,0.16079590866276444,0.1604254530597159,0.15937582879345197,0.15861948188680472,0.15807923409634242,0.15707077152533291,0.15669619975275895,0.15635044116686306,0.15548604470212338,0.15526994558593846,0.153757251772644,0.15358437247969606,0.15358437247969606,0.1532386138938002,0.1530163404801073,0.1504437320199551,0.14960814874189352,0.14960814874189352,0.1474183443933662,0.1446810888928773,0.14459464924640336,0.1423039986148432,0.13888963257912146,0.13888963257912146],\"yaxis\":\"y\"}],                        {\"legend\":{\"tracegroupgap\":0},\"margin\":{\"t\":60},\"template\":{\"data\":{\"bar\":[{\"error_x\":{\"color\":\"#2a3f5f\"},\"error_y\":{\"color\":\"#2a3f5f\"},\"marker\":{\"line\":{\"color\":\"#E5ECF6\",\"width\":0.5},\"pattern\":{\"fillmode\":\"overlay\",\"size\":10,\"solidity\":0.2}},\"type\":\"bar\"}],\"barpolar\":[{\"marker\":{\"line\":{\"color\":\"#E5ECF6\",\"width\":0.5},\"pattern\":{\"fillmode\":\"overlay\",\"size\":10,\"solidity\":0.2}},\"type\":\"barpolar\"}],\"carpet\":[{\"aaxis\":{\"endlinecolor\":\"#2a3f5f\",\"gridcolor\":\"white\",\"linecolor\":\"white\",\"minorgridcolor\":\"white\",\"startlinecolor\":\"#2a3f5f\"},\"baxis\":{\"endlinecolor\":\"#2a3f5f\",\"gridcolor\":\"white\",\"linecolor\":\"white\",\"minorgridcolor\":\"white\",\"startlinecolor\":\"#2a3f5f\"},\"type\":\"carpet\"}],\"choropleth\":[{\"colorbar\":{\"outlinewidth\":0,\"ticks\":\"\"},\"type\":\"choropleth\"}],\"contour\":[{\"colorbar\":{\"outlinewidth\":0,\"ticks\":\"\"},\"colorscale\":[[0.0,\"#0d0887\"],[0.1111111111111111,\"#46039f\"],[0.2222222222222222,\"#7201a8\"],[0.3333333333333333,\"#9c179e\"],[0.4444444444444444,\"#bd3786\"],[0.5555555555555556,\"#d8576b\"],[0.6666666666666666,\"#ed7953\"],[0.7777777777777778,\"#fb9f3a\"],[0.8888888888888888,\"#fdca26\"],[1.0,\"#f0f921\"]],\"type\":\"contour\"}],\"contourcarpet\":[{\"colorbar\":{\"outlinewidth\":0,\"ticks\":\"\"},\"type\":\"contourcarpet\"}],\"heatmap\":[{\"colorbar\":{\"outlinewidth\":0,\"ticks\":\"\"},\"colorscale\":[[0.0,\"#0d0887\"],[0.1111111111111111,\"#46039f\"],[0.2222222222222222,\"#7201a8\"],[0.3333333333333333,\"#9c179e\"],[0.4444444444444444,\"#bd3786\"],[0.5555555555555556,\"#d8576b\"],[0.6666666666666666,\"#ed7953\"],[0.7777777777777778,\"#fb9f3a\"],[0.8888888888888888,\"#fdca26\"],[1.0,\"#f0f921\"]],\"type\":\"heatmap\"}],\"heatmapgl\":[{\"colorbar\":{\"outlinewidth\":0,\"ticks\":\"\"},\"colorscale\":[[0.0,\"#0d0887\"],[0.1111111111111111,\"#46039f\"],[0.2222222222222222,\"#7201a8\"],[0.3333333333333333,\"#9c179e\"],[0.4444444444444444,\"#bd3786\"],[0.5555555555555556,\"#d8576b\"],[0.6666666666666666,\"#ed7953\"],[0.7777777777777778,\"#fb9f3a\"],[0.8888888888888888,\"#fdca26\"],[1.0,\"#f0f921\"]],\"type\":\"heatmapgl\"}],\"histogram\":[{\"marker\":{\"pattern\":{\"fillmode\":\"overlay\",\"size\":10,\"solidity\":0.2}},\"type\":\"histogram\"}],\"histogram2d\":[{\"colorbar\":{\"outlinewidth\":0,\"ticks\":\"\"},\"colorscale\":[[0.0,\"#0d0887\"],[0.1111111111111111,\"#46039f\"],[0.2222222222222222,\"#7201a8\"],[0.3333333333333333,\"#9c179e\"],[0.4444444444444444,\"#bd3786\"],[0.5555555555555556,\"#d8576b\"],[0.6666666666666666,\"#ed7953\"],[0.7777777777777778,\"#fb9f3a\"],[0.8888888888888888,\"#fdca26\"],[1.0,\"#f0f921\"]],\"type\":\"histogram2d\"}],\"histogram2dcontour\":[{\"colorbar\":{\"outlinewidth\":0,\"ticks\":\"\"},\"colorscale\":[[0.0,\"#0d0887\"],[0.1111111111111111,\"#46039f\"],[0.2222222222222222,\"#7201a8\"],[0.3333333333333333,\"#9c179e\"],[0.4444444444444444,\"#bd3786\"],[0.5555555555555556,\"#d8576b\"],[0.6666666666666666,\"#ed7953\"],[0.7777777777777778,\"#fb9f3a\"],[0.8888888888888888,\"#fdca26\"],[1.0,\"#f0f921\"]],\"type\":\"histogram2dcontour\"}],\"mesh3d\":[{\"colorbar\":{\"outlinewidth\":0,\"ticks\":\"\"},\"type\":\"mesh3d\"}],\"parcoords\":[{\"line\":{\"colorbar\":{\"outlinewidth\":0,\"ticks\":\"\"}},\"type\":\"parcoords\"}],\"pie\":[{\"automargin\":true,\"type\":\"pie\"}],\"scatter\":[{\"marker\":{\"colorbar\":{\"outlinewidth\":0,\"ticks\":\"\"}},\"type\":\"scatter\"}],\"scatter3d\":[{\"line\":{\"colorbar\":{\"outlinewidth\":0,\"ticks\":\"\"}},\"marker\":{\"colorbar\":{\"outlinewidth\":0,\"ticks\":\"\"}},\"type\":\"scatter3d\"}],\"scattercarpet\":[{\"marker\":{\"colorbar\":{\"outlinewidth\":0,\"ticks\":\"\"}},\"type\":\"scattercarpet\"}],\"scattergeo\":[{\"marker\":{\"colorbar\":{\"outlinewidth\":0,\"ticks\":\"\"}},\"type\":\"scattergeo\"}],\"scattergl\":[{\"marker\":{\"colorbar\":{\"outlinewidth\":0,\"ticks\":\"\"}},\"type\":\"scattergl\"}],\"scattermapbox\":[{\"marker\":{\"colorbar\":{\"outlinewidth\":0,\"ticks\":\"\"}},\"type\":\"scattermapbox\"}],\"scatterpolar\":[{\"marker\":{\"colorbar\":{\"outlinewidth\":0,\"ticks\":\"\"}},\"type\":\"scatterpolar\"}],\"scatterpolargl\":[{\"marker\":{\"colorbar\":{\"outlinewidth\":0,\"ticks\":\"\"}},\"type\":\"scatterpolargl\"}],\"scatterternary\":[{\"marker\":{\"colorbar\":{\"outlinewidth\":0,\"ticks\":\"\"}},\"type\":\"scatterternary\"}],\"surface\":[{\"colorbar\":{\"outlinewidth\":0,\"ticks\":\"\"},\"colorscale\":[[0.0,\"#0d0887\"],[0.1111111111111111,\"#46039f\"],[0.2222222222222222,\"#7201a8\"],[0.3333333333333333,\"#9c179e\"],[0.4444444444444444,\"#bd3786\"],[0.5555555555555556,\"#d8576b\"],[0.6666666666666666,\"#ed7953\"],[0.7777777777777778,\"#fb9f3a\"],[0.8888888888888888,\"#fdca26\"],[1.0,\"#f0f921\"]],\"type\":\"surface\"}],\"table\":[{\"cells\":{\"fill\":{\"color\":\"#EBF0F8\"},\"line\":{\"color\":\"white\"}},\"header\":{\"fill\":{\"color\":\"#C8D4E3\"},\"line\":{\"color\":\"white\"}},\"type\":\"table\"}]},\"layout\":{\"annotationdefaults\":{\"arrowcolor\":\"#2a3f5f\",\"arrowhead\":0,\"arrowwidth\":1},\"autotypenumbers\":\"strict\",\"coloraxis\":{\"colorbar\":{\"outlinewidth\":0,\"ticks\":\"\"}},\"colorscale\":{\"diverging\":[[0,\"#8e0152\"],[0.1,\"#c51b7d\"],[0.2,\"#de77ae\"],[0.3,\"#f1b6da\"],[0.4,\"#fde0ef\"],[0.5,\"#f7f7f7\"],[0.6,\"#e6f5d0\"],[0.7,\"#b8e186\"],[0.8,\"#7fbc41\"],[0.9,\"#4d9221\"],[1,\"#276419\"]],\"sequential\":[[0.0,\"#0d0887\"],[0.1111111111111111,\"#46039f\"],[0.2222222222222222,\"#7201a8\"],[0.3333333333333333,\"#9c179e\"],[0.4444444444444444,\"#bd3786\"],[0.5555555555555556,\"#d8576b\"],[0.6666666666666666,\"#ed7953\"],[0.7777777777777778,\"#fb9f3a\"],[0.8888888888888888,\"#fdca26\"],[1.0,\"#f0f921\"]],\"sequentialminus\":[[0.0,\"#0d0887\"],[0.1111111111111111,\"#46039f\"],[0.2222222222222222,\"#7201a8\"],[0.3333333333333333,\"#9c179e\"],[0.4444444444444444,\"#bd3786\"],[0.5555555555555556,\"#d8576b\"],[0.6666666666666666,\"#ed7953\"],[0.7777777777777778,\"#fb9f3a\"],[0.8888888888888888,\"#fdca26\"],[1.0,\"#f0f921\"]]},\"colorway\":[\"#636efa\",\"#EF553B\",\"#00cc96\",\"#ab63fa\",\"#FFA15A\",\"#19d3f3\",\"#FF6692\",\"#B6E880\",\"#FF97FF\",\"#FECB52\"],\"font\":{\"color\":\"#2a3f5f\"},\"geo\":{\"bgcolor\":\"white\",\"lakecolor\":\"white\",\"landcolor\":\"#E5ECF6\",\"showlakes\":true,\"showland\":true,\"subunitcolor\":\"white\"},\"hoverlabel\":{\"align\":\"left\"},\"hovermode\":\"closest\",\"mapbox\":{\"style\":\"light\"},\"paper_bgcolor\":\"white\",\"plot_bgcolor\":\"#E5ECF6\",\"polar\":{\"angularaxis\":{\"gridcolor\":\"white\",\"linecolor\":\"white\",\"ticks\":\"\"},\"bgcolor\":\"#E5ECF6\",\"radialaxis\":{\"gridcolor\":\"white\",\"linecolor\":\"white\",\"ticks\":\"\"}},\"scene\":{\"xaxis\":{\"backgroundcolor\":\"#E5ECF6\",\"gridcolor\":\"white\",\"gridwidth\":2,\"linecolor\":\"white\",\"showbackground\":true,\"ticks\":\"\",\"zerolinecolor\":\"white\"},\"yaxis\":{\"backgroundcolor\":\"#E5ECF6\",\"gridcolor\":\"white\",\"gridwidth\":2,\"linecolor\":\"white\",\"showbackground\":true,\"ticks\":\"\",\"zerolinecolor\":\"white\"},\"zaxis\":{\"backgroundcolor\":\"#E5ECF6\",\"gridcolor\":\"white\",\"gridwidth\":2,\"linecolor\":\"white\",\"showbackground\":true,\"ticks\":\"\",\"zerolinecolor\":\"white\"}},\"shapedefaults\":{\"line\":{\"color\":\"#2a3f5f\"}},\"ternary\":{\"aaxis\":{\"gridcolor\":\"white\",\"linecolor\":\"white\",\"ticks\":\"\"},\"baxis\":{\"gridcolor\":\"white\",\"linecolor\":\"white\",\"ticks\":\"\"},\"bgcolor\":\"#E5ECF6\",\"caxis\":{\"gridcolor\":\"white\",\"linecolor\":\"white\",\"ticks\":\"\"}},\"title\":{\"x\":0.05},\"xaxis\":{\"automargin\":true,\"gridcolor\":\"white\",\"linecolor\":\"white\",\"ticks\":\"\",\"title\":{\"standoff\":15},\"zerolinecolor\":\"white\",\"zerolinewidth\":2},\"yaxis\":{\"automargin\":true,\"gridcolor\":\"white\",\"linecolor\":\"white\",\"ticks\":\"\",\"title\":{\"standoff\":15},\"zerolinecolor\":\"white\",\"zerolinewidth\":2}}},\"xaxis\":{\"anchor\":\"y\",\"domain\":[0.0,1.0],\"title\":{\"text\":\"Transcript Sentiment\"}},\"yaxis\":{\"anchor\":\"x\",\"domain\":[0.0,1.0],\"title\":{\"text\":\"Twitter Sentiment\"}}},                        {\"responsive\": true}                    ).then(function(){\n",
       "                            \n",
       "var gd = document.getElementById('4dfba388-f510-40d7-8215-ebf89e0927c3');\n",
       "var x = new MutationObserver(function (mutations, observer) {{\n",
       "        var display = window.getComputedStyle(gd).display;\n",
       "        if (!display || display === 'none') {{\n",
       "            console.log([gd, 'removed!']);\n",
       "            Plotly.purge(gd);\n",
       "            observer.disconnect();\n",
       "        }}\n",
       "}});\n",
       "\n",
       "// Listen for the removal of the full notebook cells\n",
       "var notebookContainer = gd.closest('#notebook-container');\n",
       "if (notebookContainer) {{\n",
       "    x.observe(notebookContainer, {childList: true});\n",
       "}}\n",
       "\n",
       "// Listen for the clearing of the current output cell\n",
       "var outputEl = gd.closest('.output');\n",
       "if (outputEl) {{\n",
       "    x.observe(outputEl, {childList: true});\n",
       "}}\n",
       "\n",
       "                        })                };                });            </script>        </div>"
      ]
     },
     "metadata": {}
    }
   ],
   "metadata": {}
  },
  {
   "cell_type": "code",
   "execution_count": 6,
   "source": [
    "aug_data.columns"
   ],
   "outputs": [
    {
     "output_type": "execute_result",
     "data": {
      "text/plain": [
       "Index(['state', 'date', 'daily_newcase', 'total_doses', 'daily_doses',\n",
       "       'transcript_sentiment_positive', 'transcript_sentiment_neutral',\n",
       "       'transcript_sentiment_negative', 'avr_positive_tweet_sentiment',\n",
       "       'avr_neutral_tweet_sentiment', 'avr_negative_tweet_sentiment'],\n",
       "      dtype='object')"
      ]
     },
     "metadata": {},
     "execution_count": 6
    }
   ],
   "metadata": {}
  },
  {
   "cell_type": "markdown",
   "source": [
    "## Dash Plots"
   ],
   "metadata": {}
  },
  {
   "cell_type": "code",
   "execution_count": 7,
   "source": [
    "from jupyter_dash import JupyterDash\n",
    "from dash import dcc\n",
    "from dash import html\n",
    "from dash.dependencies import Input, Output\n",
    "from datetime import date"
   ],
   "outputs": [],
   "metadata": {}
  },
  {
   "cell_type": "markdown",
   "source": [
    "Have included the graph descriptions in dcc.Markdown below. All appear directly the below the graph they correspond to."
   ],
   "metadata": {}
  },
  {
   "cell_type": "code",
   "execution_count": 33,
   "source": [
    "# Build App\n",
    "app = JupyterDash(__name__)\n",
    "app.layout =  html.Div([\n",
    "    html.H1(\"Transcript Sentiment \", style={'textAlign': 'center'}),\n",
    "    \n",
    "    html.H2(children='''\n",
    "        A visualisation of state sentiment through time\n",
    "        ''', style={'textAlign': 'center'}),\n",
    "    \n",
    "    html.Label('State:'),\n",
    "    \n",
    "     dcc.Dropdown(\n",
    "            id = \"states_dropdown\",\n",
    "            options = [\n",
    "                {'label' : \"Victoria\", \"value\" : 'VIC'},\n",
    "                {'label' : \"Queensland\", \"value\" : 'QLD'},\n",
    "                {'label' : \"New South Wales\", \"value\" : 'NSW'}],\n",
    "            value = \"VIC\"\n",
    "        ),\n",
    "    \n",
    "    html.Label('Transcript Sentiment:'),\n",
    "    dcc.Dropdown(\n",
    "            id = \"sentiments_dropdown\",\n",
    "            options = [\n",
    "                {'label' : \"Negative\", \"value\" : 'transcript_sentiment_negative'},\n",
    "                {'label' : \"Neutral\", \"value\" : 'transcript_sentiment_neutral'},\n",
    "                {'label' : \"Positive\", \"value\" : 'transcript_sentiment_positive'}],\n",
    "            value = \"transcript_sentiment_negative\"\n",
    "        ),\n",
    "     \n",
    "      html.Label('Twitter Sentiment:'),\n",
    "     dcc.Dropdown(\n",
    "            id = \"twitter_dropdown\",\n",
    "            options = [\n",
    "                {'label' : \"Negative\", \"value\" : 'avr_negative_tweet_sentiment'},\n",
    "                {'label' : \"Neutral\", \"value\" : 'avr_neutral_tweet_sentiment'},\n",
    "                {'label' : \"Positive\", \"value\" : 'avr_positive_tweet_sentiment'}],\n",
    "            value = \"avr_negative_tweet_sentiment\"\n",
    "        ),\n",
    "   \n",
    "    \n",
    "    dcc.Graph(id='sentiment_graph'), \n",
    "    \n",
    "    dcc.Markdown(\n",
    "        '''\n",
    "        The above graph shows the change in sentiment from August 1 to August 31 for Vicotria, Queensland and New South Wales. \n",
    "        NSW is consistantly more negative than other states, whilst QLD and VIC are more positive. \n",
    "        All states show a relatively low proportion of neutral sentiment\n",
    "\n",
    "        '''\n",
    "    ),\n",
    "    \n",
    "    html.H2(children='''\n",
    "\n",
    "        A visualisation of state sentiment sentiment vs daily doses\n",
    "        ''', style={'textAlign': 'center'}),  \n",
    "    \n",
    "    dcc.Graph(id='states_graph'), \n",
    "    \n",
    "    dcc.Markdown(\n",
    "        '''\n",
    "        The above graph shows the change in goverment press conference sentiment and the daily doses of covid-19 vaccine administered.\n",
    "        The top portion shows the number of doses in thousands, bottom portion shows the sentiment proportion of transcript for each\n",
    "        date. \n",
    "\n",
    "        '''\n",
    "    ),\n",
    "    \n",
    "    dcc.Graph(id='twitter_transcript'),\n",
    "    \n",
    "    dcc.Markdown(\n",
    "        '''\n",
    "        The scatterplot allows users to compare transcript and twitter sentiment for selected state. \n",
    "        Input is controlled by the dropdowns at the top. \n",
    "        Trendline shows the strength of the relationship. \n",
    "        Appears as though there is not a strong relationship between transcript and twitter sentiment.\n",
    "        \n",
    "\n",
    "        '''\n",
    "    ),\n",
    "])\n",
    "\n",
    "# State sentiment through time graph function and callback\n",
    "@app.callback(\n",
    "    Output('sentiment_graph', 'figure'),\n",
    "    Input('sentiments_dropdown', 'value'))\n",
    "def update_figure(selected_sentiment):\n",
    "    fig = px.line(aug_data, x = \"date\", y =selected_sentiment , color = \"state\", template = \"simple_white\")\n",
    "    fig = fig.update_layout(\n",
    "                   xaxis_title='Date',\n",
    "                   yaxis_title='Sentiment Proportion')\n",
    "\n",
    "    return fig\n",
    "\n",
    "# Positive sentiment and daily doses graph call back and function\n",
    "@app.callback(\n",
    "    Output('states_graph', 'figure'),\n",
    "    [Input('states_dropdown', 'value'),\n",
    "     Input('sentiments_dropdown', 'value')])\n",
    "def update_figure2(selected_state, selected_sentiment):\n",
    "    filtdf= aug_data[aug_data[\"state\"] == selected_state]\n",
    "    fig = make_subplots(rows = 2, shared_xaxes = True, vertical_spacing = 0.15)\n",
    "\n",
    "    # Add traces\n",
    "    fig.add_trace(\n",
    "        go.Scatter(x=filtdf[\"date\"], y=filtdf[\"daily_doses\"], name=\"number of doses\"),\n",
    "        row = 1, col =1\n",
    "    )\n",
    "\n",
    "    fig.add_trace(\n",
    "        go.Bar(x=filtdf[\"date\"], y=filtdf[selected_sentiment], name=\"proportion sentiment\" ),\n",
    "        row = 2, col = 1\n",
    "    )\n",
    "    #  adding y-axis labels\n",
    "    fig.update_yaxes(title = str.title(\"number of daily vaccination doses\"), row =1, col = 1,\n",
    "                 title_font = {\"size\":8},\n",
    "                 title_standoff = 30)\n",
    "\n",
    "    fig.update_yaxes(title = str.title(\"proportion of sentiment\"), row =2, col = 1,\n",
    "                 title_font = {\"size\":8},\n",
    "                 title_standoff = 30)\n",
    "\n",
    "    # Add figure title\n",
    "    fig.update_layout(\n",
    "        title_text= str.title(\"number of doses and sentiment through time\"), \n",
    "        template = \"simple_white\"\n",
    "    )\n",
    "    return fig\n",
    "@app.callback(\n",
    "    Output('twitter_transcript', 'figure'),\n",
    "    [Input('states_dropdown', 'value'),\n",
    "     Input('sentiments_dropdown', 'value'),\n",
    "     Input('twitter_dropdown','value')])\n",
    "def update_figure(selected_state, trans_sentiment,tweet_sentiment ):\n",
    "    filt = aug_data[aug_data[\"state\"] == selected_state]\n",
    "\n",
    "    fig = px.scatter(filt, x = trans_sentiment, y = tweet_sentiment, trendline=\"ols\")\n",
    "    fig.update_xaxes(title = \"Transcript Sentiment\")\n",
    "    fig.update_yaxes(title = \"Twitter Sentiment\")\n",
    "    fig.update_layout(\n",
    "        title_text= str.title(\"Impact of transcript sentiment of twitter\"), \n",
    "        template = \"simple_white\"\n",
    "    )\n",
    "    return fig\n",
    "\n",
    "# Twitter vs Transcript sentiment\n",
    "\n",
    "# Run app and display result inline in the notebook\n",
    "app.run_server(debug = True)"
   ],
   "outputs": [
    {
     "output_type": "stream",
     "name": "stdout",
     "text": [
      "Dash app running on http://127.0.0.1:8050/\n"
     ]
    }
   ],
   "metadata": {}
  },
  {
   "cell_type": "code",
   "execution_count": null,
   "source": [],
   "outputs": [],
   "metadata": {}
  }
 ],
 "metadata": {
  "kernelspec": {
   "name": "python3",
   "display_name": "Python 3.7.6 64-bit ('case_studies_project': venv)"
  },
  "language_info": {
   "codemirror_mode": {
    "name": "ipython",
    "version": 3
   },
   "file_extension": ".py",
   "mimetype": "text/x-python",
   "name": "python",
   "nbconvert_exporter": "python",
   "pygments_lexer": "ipython3",
   "version": "3.7.6"
  },
  "interpreter": {
   "hash": "af29d191435c30052b225c9a4d373ade21a26dc76c4d72a51a4689ed45f4200e"
  }
 },
 "nbformat": 4,
 "nbformat_minor": 4
}